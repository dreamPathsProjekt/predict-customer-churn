{
 "cells": [
  {
   "cell_type": "raw",
   "metadata": {
    "editable": true
   },
   "source": [
    "import shap\n",
    "import joblib\n",
    "import pandas as pd\n",
    "import numpy as np\n",
    "import matplotlib.pyplot as plt\n",
    "import seaborn as sns; sns.set()\n",
    "\n",
    "from sklearn.preprocessing import normalize\n",
    "from sklearn.model_selection import train_test_split\n",
    "\n",
    "from sklearn.linear_model import LogisticRegression\n",
    "from sklearn.ensemble import RandomForestClassifier\n",
    "from sklearn.model_selection import GridSearchCV\n",
    "\n",
    "from sklearn.metrics import plot_roc_curve, classification_report"
   ]
  },
  {
   "cell_type": "code",
   "execution_count": 4,
   "metadata": {
    "editable": true,
    "ExecuteTime": {
     "end_time": "2023-12-02T20:10:01.058167122Z",
     "start_time": "2023-12-02T20:10:00.131561323Z"
    }
   },
   "outputs": [],
   "source": [
    "import os\n",
    "import shap\n",
    "import joblib\n",
    "import pandas as pd\n",
    "import numpy as np\n",
    "import matplotlib.pyplot as plt\n",
    "import seaborn as sns; sns.set()\n",
    "\n",
    "# from sklearn.preprocessing import normalize\n",
    "from sklearn.model_selection import train_test_split\n",
    "\n",
    "from sklearn.linear_model import LogisticRegression\n",
    "from sklearn.ensemble import RandomForestClassifier\n",
    "from sklearn.model_selection import GridSearchCV\n",
    "\n",
    "from sklearn.metrics import plot_roc_curve, classification_report\n",
    "os.environ['QT_QPA_PLATFORM']='offscreen'"
   ]
  },
  {
   "cell_type": "code",
   "execution_count": 5,
   "metadata": {
    "editable": true,
    "ExecuteTime": {
     "end_time": "2023-12-02T20:10:04.858567170Z",
     "start_time": "2023-12-02T20:10:04.713591265Z"
    }
   },
   "outputs": [
    {
     "data": {
      "text/plain": "   Unnamed: 0  CLIENTNUM     Attrition_Flag  Customer_Age Gender  \\\n0           0  768805383  Existing Customer            45      M   \n1           1  818770008  Existing Customer            49      F   \n2           2  713982108  Existing Customer            51      M   \n3           3  769911858  Existing Customer            40      F   \n4           4  709106358  Existing Customer            40      M   \n\n   Dependent_count Education_Level Marital_Status Income_Category  \\\n0                3     High School        Married     $60K - $80K   \n1                5        Graduate         Single  Less than $40K   \n2                3        Graduate        Married    $80K - $120K   \n3                4     High School        Unknown  Less than $40K   \n4                3      Uneducated        Married     $60K - $80K   \n\n  Card_Category  ...  Months_Inactive_12_mon  Contacts_Count_12_mon  \\\n0          Blue  ...                       1                      3   \n1          Blue  ...                       1                      2   \n2          Blue  ...                       1                      0   \n3          Blue  ...                       4                      1   \n4          Blue  ...                       1                      0   \n\n   Credit_Limit  Total_Revolving_Bal  Avg_Open_To_Buy  Total_Amt_Chng_Q4_Q1  \\\n0       12691.0                  777          11914.0                 1.335   \n1        8256.0                  864           7392.0                 1.541   \n2        3418.0                    0           3418.0                 2.594   \n3        3313.0                 2517            796.0                 1.405   \n4        4716.0                    0           4716.0                 2.175   \n\n   Total_Trans_Amt  Total_Trans_Ct  Total_Ct_Chng_Q4_Q1  Avg_Utilization_Ratio  \n0             1144              42                1.625                  0.061  \n1             1291              33                3.714                  0.105  \n2             1887              20                2.333                  0.000  \n3             1171              20                2.333                  0.760  \n4              816              28                2.500                  0.000  \n\n[5 rows x 22 columns]",
      "text/html": "<div>\n<style scoped>\n    .dataframe tbody tr th:only-of-type {\n        vertical-align: middle;\n    }\n\n    .dataframe tbody tr th {\n        vertical-align: top;\n    }\n\n    .dataframe thead th {\n        text-align: right;\n    }\n</style>\n<table border=\"1\" class=\"dataframe\">\n  <thead>\n    <tr style=\"text-align: right;\">\n      <th></th>\n      <th>Unnamed: 0</th>\n      <th>CLIENTNUM</th>\n      <th>Attrition_Flag</th>\n      <th>Customer_Age</th>\n      <th>Gender</th>\n      <th>Dependent_count</th>\n      <th>Education_Level</th>\n      <th>Marital_Status</th>\n      <th>Income_Category</th>\n      <th>Card_Category</th>\n      <th>...</th>\n      <th>Months_Inactive_12_mon</th>\n      <th>Contacts_Count_12_mon</th>\n      <th>Credit_Limit</th>\n      <th>Total_Revolving_Bal</th>\n      <th>Avg_Open_To_Buy</th>\n      <th>Total_Amt_Chng_Q4_Q1</th>\n      <th>Total_Trans_Amt</th>\n      <th>Total_Trans_Ct</th>\n      <th>Total_Ct_Chng_Q4_Q1</th>\n      <th>Avg_Utilization_Ratio</th>\n    </tr>\n  </thead>\n  <tbody>\n    <tr>\n      <th>0</th>\n      <td>0</td>\n      <td>768805383</td>\n      <td>Existing Customer</td>\n      <td>45</td>\n      <td>M</td>\n      <td>3</td>\n      <td>High School</td>\n      <td>Married</td>\n      <td>$60K - $80K</td>\n      <td>Blue</td>\n      <td>...</td>\n      <td>1</td>\n      <td>3</td>\n      <td>12691.0</td>\n      <td>777</td>\n      <td>11914.0</td>\n      <td>1.335</td>\n      <td>1144</td>\n      <td>42</td>\n      <td>1.625</td>\n      <td>0.061</td>\n    </tr>\n    <tr>\n      <th>1</th>\n      <td>1</td>\n      <td>818770008</td>\n      <td>Existing Customer</td>\n      <td>49</td>\n      <td>F</td>\n      <td>5</td>\n      <td>Graduate</td>\n      <td>Single</td>\n      <td>Less than $40K</td>\n      <td>Blue</td>\n      <td>...</td>\n      <td>1</td>\n      <td>2</td>\n      <td>8256.0</td>\n      <td>864</td>\n      <td>7392.0</td>\n      <td>1.541</td>\n      <td>1291</td>\n      <td>33</td>\n      <td>3.714</td>\n      <td>0.105</td>\n    </tr>\n    <tr>\n      <th>2</th>\n      <td>2</td>\n      <td>713982108</td>\n      <td>Existing Customer</td>\n      <td>51</td>\n      <td>M</td>\n      <td>3</td>\n      <td>Graduate</td>\n      <td>Married</td>\n      <td>$80K - $120K</td>\n      <td>Blue</td>\n      <td>...</td>\n      <td>1</td>\n      <td>0</td>\n      <td>3418.0</td>\n      <td>0</td>\n      <td>3418.0</td>\n      <td>2.594</td>\n      <td>1887</td>\n      <td>20</td>\n      <td>2.333</td>\n      <td>0.000</td>\n    </tr>\n    <tr>\n      <th>3</th>\n      <td>3</td>\n      <td>769911858</td>\n      <td>Existing Customer</td>\n      <td>40</td>\n      <td>F</td>\n      <td>4</td>\n      <td>High School</td>\n      <td>Unknown</td>\n      <td>Less than $40K</td>\n      <td>Blue</td>\n      <td>...</td>\n      <td>4</td>\n      <td>1</td>\n      <td>3313.0</td>\n      <td>2517</td>\n      <td>796.0</td>\n      <td>1.405</td>\n      <td>1171</td>\n      <td>20</td>\n      <td>2.333</td>\n      <td>0.760</td>\n    </tr>\n    <tr>\n      <th>4</th>\n      <td>4</td>\n      <td>709106358</td>\n      <td>Existing Customer</td>\n      <td>40</td>\n      <td>M</td>\n      <td>3</td>\n      <td>Uneducated</td>\n      <td>Married</td>\n      <td>$60K - $80K</td>\n      <td>Blue</td>\n      <td>...</td>\n      <td>1</td>\n      <td>0</td>\n      <td>4716.0</td>\n      <td>0</td>\n      <td>4716.0</td>\n      <td>2.175</td>\n      <td>816</td>\n      <td>28</td>\n      <td>2.500</td>\n      <td>0.000</td>\n    </tr>\n  </tbody>\n</table>\n<p>5 rows × 22 columns</p>\n</div>"
     },
     "execution_count": 5,
     "metadata": {},
     "output_type": "execute_result"
    }
   ],
   "source": [
    "df = pd.read_csv(r\"./data/bank_data.csv\")\n",
    "df.head()"
   ]
  },
  {
   "cell_type": "code",
   "execution_count": 6,
   "metadata": {
    "editable": true,
    "ExecuteTime": {
     "end_time": "2023-12-02T20:10:09.575110294Z",
     "start_time": "2023-12-02T20:10:09.560693278Z"
    }
   },
   "outputs": [
    {
     "data": {
      "text/plain": "(10127, 22)"
     },
     "execution_count": 6,
     "metadata": {},
     "output_type": "execute_result"
    }
   ],
   "source": [
    "df.shape"
   ]
  },
  {
   "cell_type": "code",
   "execution_count": 7,
   "metadata": {
    "editable": true,
    "ExecuteTime": {
     "end_time": "2023-12-02T20:10:11.615816784Z",
     "start_time": "2023-12-02T20:10:11.549384021Z"
    }
   },
   "outputs": [
    {
     "data": {
      "text/plain": "Unnamed: 0                  0\nCLIENTNUM                   0\nAttrition_Flag              0\nCustomer_Age                0\nGender                      0\nDependent_count             0\nEducation_Level             0\nMarital_Status              0\nIncome_Category             0\nCard_Category               0\nMonths_on_book              0\nTotal_Relationship_Count    0\nMonths_Inactive_12_mon      0\nContacts_Count_12_mon       0\nCredit_Limit                0\nTotal_Revolving_Bal         0\nAvg_Open_To_Buy             0\nTotal_Amt_Chng_Q4_Q1        0\nTotal_Trans_Amt             0\nTotal_Trans_Ct              0\nTotal_Ct_Chng_Q4_Q1         0\nAvg_Utilization_Ratio       0\ndtype: int64"
     },
     "execution_count": 7,
     "metadata": {},
     "output_type": "execute_result"
    }
   ],
   "source": [
    "df.isnull().sum()"
   ]
  },
  {
   "cell_type": "code",
   "execution_count": 8,
   "metadata": {
    "editable": true,
    "ExecuteTime": {
     "end_time": "2023-12-02T20:10:17.142607524Z",
     "start_time": "2023-12-02T20:10:17.025998814Z"
    }
   },
   "outputs": [
    {
     "data": {
      "text/plain": "         Unnamed: 0     CLIENTNUM  Customer_Age  Dependent_count  \\\ncount  10127.000000  1.012700e+04  10127.000000     10127.000000   \nmean    5063.000000  7.391776e+08     46.325960         2.346203   \nstd     2923.557422  3.690378e+07      8.016814         1.298908   \nmin        0.000000  7.080821e+08     26.000000         0.000000   \n25%     2531.500000  7.130368e+08     41.000000         1.000000   \n50%     5063.000000  7.179264e+08     46.000000         2.000000   \n75%     7594.500000  7.731435e+08     52.000000         3.000000   \nmax    10126.000000  8.283431e+08     73.000000         5.000000   \n\n       Months_on_book  Total_Relationship_Count  Months_Inactive_12_mon  \\\ncount    10127.000000              10127.000000            10127.000000   \nmean        35.928409                  3.812580                2.341167   \nstd          7.986416                  1.554408                1.010622   \nmin         13.000000                  1.000000                0.000000   \n25%         31.000000                  3.000000                2.000000   \n50%         36.000000                  4.000000                2.000000   \n75%         40.000000                  5.000000                3.000000   \nmax         56.000000                  6.000000                6.000000   \n\n       Contacts_Count_12_mon  Credit_Limit  Total_Revolving_Bal  \\\ncount           10127.000000  10127.000000         10127.000000   \nmean                2.455317   8631.953698          1162.814061   \nstd                 1.106225   9088.776650           814.987335   \nmin                 0.000000   1438.300000             0.000000   \n25%                 2.000000   2555.000000           359.000000   \n50%                 2.000000   4549.000000          1276.000000   \n75%                 3.000000  11067.500000          1784.000000   \nmax                 6.000000  34516.000000          2517.000000   \n\n       Avg_Open_To_Buy  Total_Amt_Chng_Q4_Q1  Total_Trans_Amt  Total_Trans_Ct  \\\ncount     10127.000000          10127.000000     10127.000000    10127.000000   \nmean       7469.139637              0.759941      4404.086304       64.858695   \nstd        9090.685324              0.219207      3397.129254       23.472570   \nmin           3.000000              0.000000       510.000000       10.000000   \n25%        1324.500000              0.631000      2155.500000       45.000000   \n50%        3474.000000              0.736000      3899.000000       67.000000   \n75%        9859.000000              0.859000      4741.000000       81.000000   \nmax       34516.000000              3.397000     18484.000000      139.000000   \n\n       Total_Ct_Chng_Q4_Q1  Avg_Utilization_Ratio  \ncount         10127.000000           10127.000000  \nmean              0.712222               0.274894  \nstd               0.238086               0.275691  \nmin               0.000000               0.000000  \n25%               0.582000               0.023000  \n50%               0.702000               0.176000  \n75%               0.818000               0.503000  \nmax               3.714000               0.999000  ",
      "text/html": "<div>\n<style scoped>\n    .dataframe tbody tr th:only-of-type {\n        vertical-align: middle;\n    }\n\n    .dataframe tbody tr th {\n        vertical-align: top;\n    }\n\n    .dataframe thead th {\n        text-align: right;\n    }\n</style>\n<table border=\"1\" class=\"dataframe\">\n  <thead>\n    <tr style=\"text-align: right;\">\n      <th></th>\n      <th>Unnamed: 0</th>\n      <th>CLIENTNUM</th>\n      <th>Customer_Age</th>\n      <th>Dependent_count</th>\n      <th>Months_on_book</th>\n      <th>Total_Relationship_Count</th>\n      <th>Months_Inactive_12_mon</th>\n      <th>Contacts_Count_12_mon</th>\n      <th>Credit_Limit</th>\n      <th>Total_Revolving_Bal</th>\n      <th>Avg_Open_To_Buy</th>\n      <th>Total_Amt_Chng_Q4_Q1</th>\n      <th>Total_Trans_Amt</th>\n      <th>Total_Trans_Ct</th>\n      <th>Total_Ct_Chng_Q4_Q1</th>\n      <th>Avg_Utilization_Ratio</th>\n    </tr>\n  </thead>\n  <tbody>\n    <tr>\n      <th>count</th>\n      <td>10127.000000</td>\n      <td>1.012700e+04</td>\n      <td>10127.000000</td>\n      <td>10127.000000</td>\n      <td>10127.000000</td>\n      <td>10127.000000</td>\n      <td>10127.000000</td>\n      <td>10127.000000</td>\n      <td>10127.000000</td>\n      <td>10127.000000</td>\n      <td>10127.000000</td>\n      <td>10127.000000</td>\n      <td>10127.000000</td>\n      <td>10127.000000</td>\n      <td>10127.000000</td>\n      <td>10127.000000</td>\n    </tr>\n    <tr>\n      <th>mean</th>\n      <td>5063.000000</td>\n      <td>7.391776e+08</td>\n      <td>46.325960</td>\n      <td>2.346203</td>\n      <td>35.928409</td>\n      <td>3.812580</td>\n      <td>2.341167</td>\n      <td>2.455317</td>\n      <td>8631.953698</td>\n      <td>1162.814061</td>\n      <td>7469.139637</td>\n      <td>0.759941</td>\n      <td>4404.086304</td>\n      <td>64.858695</td>\n      <td>0.712222</td>\n      <td>0.274894</td>\n    </tr>\n    <tr>\n      <th>std</th>\n      <td>2923.557422</td>\n      <td>3.690378e+07</td>\n      <td>8.016814</td>\n      <td>1.298908</td>\n      <td>7.986416</td>\n      <td>1.554408</td>\n      <td>1.010622</td>\n      <td>1.106225</td>\n      <td>9088.776650</td>\n      <td>814.987335</td>\n      <td>9090.685324</td>\n      <td>0.219207</td>\n      <td>3397.129254</td>\n      <td>23.472570</td>\n      <td>0.238086</td>\n      <td>0.275691</td>\n    </tr>\n    <tr>\n      <th>min</th>\n      <td>0.000000</td>\n      <td>7.080821e+08</td>\n      <td>26.000000</td>\n      <td>0.000000</td>\n      <td>13.000000</td>\n      <td>1.000000</td>\n      <td>0.000000</td>\n      <td>0.000000</td>\n      <td>1438.300000</td>\n      <td>0.000000</td>\n      <td>3.000000</td>\n      <td>0.000000</td>\n      <td>510.000000</td>\n      <td>10.000000</td>\n      <td>0.000000</td>\n      <td>0.000000</td>\n    </tr>\n    <tr>\n      <th>25%</th>\n      <td>2531.500000</td>\n      <td>7.130368e+08</td>\n      <td>41.000000</td>\n      <td>1.000000</td>\n      <td>31.000000</td>\n      <td>3.000000</td>\n      <td>2.000000</td>\n      <td>2.000000</td>\n      <td>2555.000000</td>\n      <td>359.000000</td>\n      <td>1324.500000</td>\n      <td>0.631000</td>\n      <td>2155.500000</td>\n      <td>45.000000</td>\n      <td>0.582000</td>\n      <td>0.023000</td>\n    </tr>\n    <tr>\n      <th>50%</th>\n      <td>5063.000000</td>\n      <td>7.179264e+08</td>\n      <td>46.000000</td>\n      <td>2.000000</td>\n      <td>36.000000</td>\n      <td>4.000000</td>\n      <td>2.000000</td>\n      <td>2.000000</td>\n      <td>4549.000000</td>\n      <td>1276.000000</td>\n      <td>3474.000000</td>\n      <td>0.736000</td>\n      <td>3899.000000</td>\n      <td>67.000000</td>\n      <td>0.702000</td>\n      <td>0.176000</td>\n    </tr>\n    <tr>\n      <th>75%</th>\n      <td>7594.500000</td>\n      <td>7.731435e+08</td>\n      <td>52.000000</td>\n      <td>3.000000</td>\n      <td>40.000000</td>\n      <td>5.000000</td>\n      <td>3.000000</td>\n      <td>3.000000</td>\n      <td>11067.500000</td>\n      <td>1784.000000</td>\n      <td>9859.000000</td>\n      <td>0.859000</td>\n      <td>4741.000000</td>\n      <td>81.000000</td>\n      <td>0.818000</td>\n      <td>0.503000</td>\n    </tr>\n    <tr>\n      <th>max</th>\n      <td>10126.000000</td>\n      <td>8.283431e+08</td>\n      <td>73.000000</td>\n      <td>5.000000</td>\n      <td>56.000000</td>\n      <td>6.000000</td>\n      <td>6.000000</td>\n      <td>6.000000</td>\n      <td>34516.000000</td>\n      <td>2517.000000</td>\n      <td>34516.000000</td>\n      <td>3.397000</td>\n      <td>18484.000000</td>\n      <td>139.000000</td>\n      <td>3.714000</td>\n      <td>0.999000</td>\n    </tr>\n  </tbody>\n</table>\n</div>"
     },
     "execution_count": 8,
     "metadata": {},
     "output_type": "execute_result"
    }
   ],
   "source": [
    "df.describe()"
   ]
  },
  {
   "cell_type": "code",
   "execution_count": null,
   "metadata": {
    "editable": true
   },
   "outputs": [],
   "source": [
    "cat_columns = [\n",
    "    'Gender',\n",
    "    'Education_Level',\n",
    "    'Marital_Status',\n",
    "    'Income_Category',\n",
    "    'Card_Category'                \n",
    "]\n",
    "\n",
    "quant_columns = [\n",
    "    'Customer_Age',\n",
    "    'Dependent_count', \n",
    "    'Months_on_book',\n",
    "    'Total_Relationship_Count', \n",
    "    'Months_Inactive_12_mon',\n",
    "    'Contacts_Count_12_mon', \n",
    "    'Credit_Limit', \n",
    "    'Total_Revolving_Bal',\n",
    "    'Avg_Open_To_Buy', \n",
    "    'Total_Amt_Chng_Q4_Q1', \n",
    "    'Total_Trans_Amt',\n",
    "    'Total_Trans_Ct', \n",
    "    'Total_Ct_Chng_Q4_Q1', \n",
    "    'Avg_Utilization_Ratio'\n",
    "]"
   ]
  },
  {
   "cell_type": "code",
   "execution_count": null,
   "metadata": {
    "editable": true
   },
   "outputs": [],
   "source": [
    "df['Churn'] = df['Attrition_Flag'].apply(lambda val: 0 if val == \"Existing Customer\" else 1)"
   ]
  },
  {
   "cell_type": "code",
   "execution_count": null,
   "metadata": {
    "editable": true
   },
   "outputs": [],
   "source": [
    "plt.figure(figsize=(20,10)) \n",
    "df['Churn'].hist();"
   ]
  },
  {
   "cell_type": "code",
   "execution_count": null,
   "metadata": {
    "editable": true
   },
   "outputs": [],
   "source": [
    "plt.figure(figsize=(20,10)) \n",
    "df['Customer_Age'].hist();"
   ]
  },
  {
   "cell_type": "code",
   "execution_count": null,
   "metadata": {
    "editable": true
   },
   "outputs": [],
   "source": [
    "plt.figure(figsize=(20,10)) \n",
    "df.Marital_Status.value_counts('normalize').plot(kind='bar');"
   ]
  },
  {
   "cell_type": "code",
   "execution_count": null,
   "metadata": {
    "editable": true
   },
   "outputs": [],
   "source": [
    "plt.figure(figsize=(20,10)) \n",
    "# distplot is deprecated. Use histplot instead\n",
    "# sns.distplot(df['Total_Trans_Ct']);\n",
    "# Show distributions of 'Total_Trans_Ct' and add a smooth curve obtained using a kernel density estimate\n",
    "sns.histplot(df['Total_Trans_Ct'], stat='density', kde=True);"
   ]
  },
  {
   "cell_type": "code",
   "execution_count": null,
   "metadata": {
    "editable": true
   },
   "outputs": [],
   "source": [
    "plt.figure(figsize=(20,10)) \n",
    "sns.heatmap(df.corr(), annot=False, cmap='Dark2_r', linewidths = 2)\n",
    "plt.show()"
   ]
  },
  {
   "cell_type": "code",
   "execution_count": null,
   "metadata": {
    "editable": true
   },
   "outputs": [],
   "source": [
    "y = df['Churn']"
   ]
  },
  {
   "cell_type": "code",
   "execution_count": null,
   "metadata": {
    "editable": true
   },
   "outputs": [],
   "source": [
    "X = pd.DataFrame()"
   ]
  },
  {
   "cell_type": "code",
   "execution_count": null,
   "metadata": {
    "editable": true
   },
   "outputs": [],
   "source": [
    "# gender encoded column\n",
    "gender_lst = []\n",
    "gender_groups = df.groupby('Gender').mean()['Churn']\n",
    "\n",
    "for val in df['Gender']:\n",
    "    gender_lst.append(gender_groups.loc[val])\n",
    "\n",
    "df['Gender_Churn'] = gender_lst    \n",
    "#education encoded column\n",
    "edu_lst = []\n",
    "edu_groups = df.groupby('Education_Level').mean()['Churn']\n",
    "\n",
    "for val in df['Education_Level']:\n",
    "    edu_lst.append(edu_groups.loc[val])\n",
    "\n",
    "df['Education_Level_Churn'] = edu_lst\n",
    "\n",
    "#marital encoded column\n",
    "marital_lst = []\n",
    "marital_groups = df.groupby('Marital_Status').mean()['Churn']\n",
    "\n",
    "for val in df['Marital_Status']:\n",
    "    marital_lst.append(marital_groups.loc[val])\n",
    "\n",
    "df['Marital_Status_Churn'] = marital_lst\n",
    "\n",
    "#income encoded column\n",
    "income_lst = []\n",
    "income_groups = df.groupby('Income_Category').mean()['Churn']\n",
    "\n",
    "for val in df['Income_Category']:\n",
    "    income_lst.append(income_groups.loc[val])\n",
    "\n",
    "df['Income_Category_Churn'] = income_lst\n",
    "\n",
    "#card encoded column\n",
    "card_lst = []\n",
    "card_groups = df.groupby('Card_Category').mean()['Churn']\n",
    " \n",
    "for val in df['Card_Category']:\n",
    "    card_lst.append(card_groups.loc[val])\n",
    "\n",
    "df['Card_Category_Churn'] = card_lst\n",
    "    \n",
    "    "
   ]
  },
  {
   "cell_type": "code",
   "execution_count": null,
   "metadata": {
    "editable": true
   },
   "outputs": [],
   "source": [
    "keep_cols = ['Customer_Age', 'Dependent_count', 'Months_on_book',\n",
    "             'Total_Relationship_Count', 'Months_Inactive_12_mon',\n",
    "             'Contacts_Count_12_mon', 'Credit_Limit', 'Total_Revolving_Bal',\n",
    "             'Avg_Open_To_Buy', 'Total_Amt_Chng_Q4_Q1', 'Total_Trans_Amt',\n",
    "             'Total_Trans_Ct', 'Total_Ct_Chng_Q4_Q1', 'Avg_Utilization_Ratio',\n",
    "             'Gender_Churn', 'Education_Level_Churn', 'Marital_Status_Churn', \n",
    "             'Income_Category_Churn', 'Card_Category_Churn']\n",
    "\n",
    "X[keep_cols] = df[keep_cols]"
   ]
  },
  {
   "cell_type": "code",
   "execution_count": null,
   "metadata": {
    "editable": true
   },
   "outputs": [],
   "source": [
    "X.head()"
   ]
  },
  {
   "cell_type": "code",
   "execution_count": null,
   "metadata": {
    "editable": true
   },
   "outputs": [],
   "source": [
    "# This cell may take up to 15-20 minutes to run\n",
    "# train test split \n",
    "X_train, X_test, y_train, y_test = train_test_split(X, y, test_size= 0.3, random_state=42)\n",
    "\n",
    "# grid search\n",
    "rfc = RandomForestClassifier(random_state=42)\n",
    "# Use a different solver if the default 'lbfgs' fails to converge\n",
    "# Reference: https://scikit-learn.org/stable/modules/linear_model.html#logistic-regression\n",
    "lrc = LogisticRegression(solver='lbfgs', max_iter=3000)\n",
    "\n",
    "param_grid = { \n",
    "    'n_estimators': [200, 500],\n",
    "    'max_features': ['auto', 'sqrt'],\n",
    "    'max_depth' : [4,5,100],\n",
    "    'criterion' :['gini', 'entropy']\n",
    "}\n",
    "\n",
    "cv_rfc = GridSearchCV(estimator=rfc, param_grid=param_grid, cv=5)\n",
    "cv_rfc.fit(X_train, y_train)\n",
    "\n",
    "lrc.fit(X_train, y_train)\n",
    "\n",
    "y_train_preds_rf = cv_rfc.best_estimator_.predict(X_train)\n",
    "y_test_preds_rf = cv_rfc.best_estimator_.predict(X_test)\n",
    "\n",
    "y_train_preds_lr = lrc.predict(X_train)\n",
    "y_test_preds_lr = lrc.predict(X_test)\n",
    "\n",
    "# scores\n",
    "print('random forest results')\n",
    "print('test results')\n",
    "print(classification_report(y_test, y_test_preds_rf))\n",
    "print('train results')\n",
    "print(classification_report(y_train, y_train_preds_rf))\n",
    "\n",
    "print('logistic regression results')\n",
    "print('test results')\n",
    "print(classification_report(y_test, y_test_preds_lr))\n",
    "print('train results')\n",
    "print(classification_report(y_train, y_train_preds_lr))"
   ]
  },
  {
   "cell_type": "code",
   "execution_count": null,
   "metadata": {
    "editable": true
   },
   "outputs": [],
   "source": [
    "lrc_plot = plot_roc_curve(lrc, X_test, y_test)"
   ]
  },
  {
   "cell_type": "code",
   "execution_count": null,
   "metadata": {
    "editable": true
   },
   "outputs": [],
   "source": [
    "# plots\n",
    "plt.figure(figsize=(15, 8))\n",
    "ax = plt.gca()\n",
    "rfc_disp = plot_roc_curve(cv_rfc.best_estimator_, X_test, y_test, ax=ax, alpha=0.8)\n",
    "lrc_plot.plot(ax=ax, alpha=0.8)\n",
    "plt.show()"
   ]
  },
  {
   "cell_type": "code",
   "execution_count": null,
   "metadata": {
    "editable": true
   },
   "outputs": [],
   "source": [
    "# save best model\n",
    "joblib.dump(cv_rfc.best_estimator_, './models/rfc_model.pkl')\n",
    "joblib.dump(lrc, './models/logistic_model.pkl')"
   ]
  },
  {
   "cell_type": "code",
   "execution_count": null,
   "metadata": {
    "editable": true
   },
   "outputs": [],
   "source": [
    "rfc_model = joblib.load('./models/rfc_model.pkl')\n",
    "lr_model = joblib.load('./models/logistic_model.pkl')"
   ]
  },
  {
   "cell_type": "code",
   "execution_count": null,
   "metadata": {
    "editable": true
   },
   "outputs": [],
   "source": [
    "lrc_plot = plot_roc_curve(lr_model, X_test, y_test)"
   ]
  },
  {
   "cell_type": "code",
   "execution_count": null,
   "metadata": {
    "editable": true
   },
   "outputs": [],
   "source": [
    "plt.figure(figsize=(15, 8))\n",
    "ax = plt.gca()\n",
    "rfc_disp = plot_roc_curve(rfc_model, X_test, y_test, ax=ax, alpha=0.8)\n",
    "lrc_plot.plot(ax=ax, alpha=0.8)\n",
    "plt.show()"
   ]
  },
  {
   "cell_type": "code",
   "execution_count": null,
   "metadata": {
    "editable": true
   },
   "outputs": [],
   "source": [
    "explainer = shap.TreeExplainer(cv_rfc.best_estimator_)\n",
    "shap_values = explainer.shap_values(X_test)\n",
    "shap.summary_plot(shap_values, X_test, plot_type=\"bar\")"
   ]
  },
  {
   "cell_type": "code",
   "execution_count": null,
   "metadata": {
    "editable": true
   },
   "outputs": [],
   "source": [
    "# Calculate feature importances\n",
    "importances = cv_rfc.best_estimator_.feature_importances_\n",
    "# Sort feature importances in descending order\n",
    "indices = np.argsort(importances)[::-1]\n",
    "\n",
    "# Rearrange feature names so they match the sorted feature importances\n",
    "names = [X.columns[i] for i in indices]\n",
    "\n",
    "# Create plot\n",
    "plt.figure(figsize=(20,5))\n",
    "\n",
    "# Create plot title\n",
    "plt.title(\"Feature Importance\")\n",
    "plt.ylabel('Importance')\n",
    "\n",
    "# Add bars\n",
    "plt.bar(range(X.shape[1]), importances[indices])\n",
    "\n",
    "# Add feature names as x-axis labels\n",
    "plt.xticks(range(X.shape[1]), names, rotation=90);"
   ]
  },
  {
   "cell_type": "code",
   "execution_count": null,
   "metadata": {
    "editable": true
   },
   "outputs": [],
   "source": [
    "plt.rc('figure', figsize=(5, 5))\n",
    "#plt.text(0.01, 0.05, str(model.summary()), {'fontsize': 12}) old approach\n",
    "plt.text(0.01, 1.25, str('Random Forest Train'), {'fontsize': 10}, fontproperties = 'monospace')\n",
    "plt.text(0.01, 0.05, str(classification_report(y_test, y_test_preds_rf)), {'fontsize': 10}, fontproperties = 'monospace') # approach improved by OP -> monospace!\n",
    "plt.text(0.01, 0.6, str('Random Forest Test'), {'fontsize': 10}, fontproperties = 'monospace')\n",
    "plt.text(0.01, 0.7, str(classification_report(y_train, y_train_preds_rf)), {'fontsize': 10}, fontproperties = 'monospace') # approach improved by OP -> monospace!\n",
    "plt.axis('off');\n"
   ]
  },
  {
   "cell_type": "code",
   "execution_count": null,
   "metadata": {
    "editable": true
   },
   "outputs": [],
   "source": [
    "plt.rc('figure', figsize=(5, 5))\n",
    "plt.text(0.01, 1.25, str('Logistic Regression Train'), {'fontsize': 10}, fontproperties = 'monospace')\n",
    "plt.text(0.01, 0.05, str(classification_report(y_train, y_train_preds_lr)), {'fontsize': 10}, fontproperties = 'monospace') # approach improved by OP -> monospace!\n",
    "plt.text(0.01, 0.6, str('Logistic Regression Test'), {'fontsize': 10}, fontproperties = 'monospace')\n",
    "plt.text(0.01, 0.7, str(classification_report(y_test, y_test_preds_lr)), {'fontsize': 10}, fontproperties = 'monospace') # approach improved by OP -> monospace!\n",
    "plt.axis('off');"
   ]
  },
  {
   "cell_type": "code",
   "execution_count": null,
   "metadata": {
    "editable": true
   },
   "outputs": [],
   "source": []
  }
 ],
 "metadata": {
  "kernelspec": {
   "display_name": "Python 3 (ipykernel)",
   "language": "python",
   "name": "python3"
  },
  "language_info": {
   "codemirror_mode": {
    "name": "ipython",
    "version": 3
   },
   "file_extension": ".py",
   "mimetype": "text/x-python",
   "name": "python",
   "nbconvert_exporter": "python",
   "pygments_lexer": "ipython3",
   "version": "3.8.10"
  }
 },
 "nbformat": 4,
 "nbformat_minor": 4
}
